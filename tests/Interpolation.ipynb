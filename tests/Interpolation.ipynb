{
 "cells": [
  {
   "cell_type": "code",
   "execution_count": 19,
   "metadata": {
    "collapsed": true
   },
   "outputs": [],
   "source": [
    "import numpy as np\n",
    "import scipy as sp\n",
    "\n",
    "import plotly.plotly as ply\n",
    "import plotly.graph_objs as go\n",
    "\n",
    "import scipy.fftpack as fft\n",
    "import siggen\n",
    "import onestage"
   ]
  },
  {
   "cell_type": "code",
   "execution_count": 3,
   "metadata": {},
   "outputs": [
    {
     "name": "stdout",
     "output_type": "stream",
     "text": [
      "[ 29.4  13.5]\n"
     ]
    }
   ],
   "source": [
    "#input parameters\n",
    "a = siggen.Antenna()\n",
    "a.load(\"/home/dima/.landing/AFS32.ini\")\n",
    "f0 = 120e6\n",
    "N = 2 ** 16\n",
    "fs = f0 * N / (N/2 -2);\n",
    "f_res = fs / N\n",
    "df = f_res\n",
    "beam_width = onestage.beam_width_est(antenna=a, f0=f0, df=df, fs=fs, f_res=f_res)\n",
    "print(np.rad2deg(beam_width))"
   ]
  },
  {
   "cell_type": "code",
   "execution_count": 14,
   "metadata": {},
   "outputs": [],
   "source": [
    "size = np.array([np.pi // beam_width[1] * 3, 2 * np.pi // beam_width[0] ** 3], np.int)\n",
    "lh = onestage.arp(a, f0, df, fs, f_res, size)"
   ]
  },
  {
   "cell_type": "code",
   "execution_count": 18,
   "metadata": {},
   "outputs": [
    {
     "data": {
      "text/html": [
       "<iframe id=\"igraph\" scrolling=\"no\" style=\"border:none;\" seamless=\"seamless\" src=\"https://plot.ly/~Gerx/302.embed\" height=\"525px\" width=\"100%\"></iframe>"
      ],
      "text/plain": [
       "<plotly.tools.PlotlyDisplay object>"
      ]
     },
     "execution_count": 18,
     "metadata": {},
     "output_type": "execute_result"
    }
   ],
   "source": [
    "alpha = np.linspace(0, 2 * np.pi, size[1])\n",
    "betta = np.linspace(-np.pi / 2 , np.pi / 2, size[0])\n",
    "alpha_grid, betta_grid = np.meshgrid(alpha, betta)\n",
    "\n",
    "trace = go.Surface(    x=np.rad2deg(alpha_grid),\n",
    "                       y=np.rad2deg(betta_grid),\n",
    "                       z=lh)\n",
    "data = [trace]\n",
    "ply.iplot(data, filename='Antenna radiaton pattern Cartesian')"
   ]
  },
  {
   "cell_type": "code",
   "execution_count": null,
   "metadata": {
    "collapsed": true
   },
   "outputs": [],
   "source": [
    "max_ind = np.argmax(lh)\n",
    "betta_max = max_ind % lh.shape[0]\n",
    "alpha_max = max_ind % lh.shape[1]\n",
    "\n",
    "sp.optimize.minimize(onestage.aoa_likelihood)"
   ]
  }
 ],
 "metadata": {
  "kernelspec": {
   "display_name": "Python 3",
   "language": "python",
   "name": "python3"
  },
  "language_info": {
   "codemirror_mode": {
    "name": "ipython",
    "version": 3
   },
   "file_extension": ".py",
   "mimetype": "text/x-python",
   "name": "python",
   "nbconvert_exporter": "python",
   "pygments_lexer": "ipython3",
   "version": "3.5.4"
  }
 },
 "nbformat": 4,
 "nbformat_minor": 2
}
