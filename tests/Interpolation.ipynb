{
 "cells": [
  {
   "cell_type": "code",
   "execution_count": 1,
   "metadata": {
    "collapsed": true,
    "deletable": true,
    "editable": true
   },
   "outputs": [],
   "source": [
    "import numpy as np\n",
    "import scipy as sp\n",
    "\n",
    "import plotly.plotly as ply\n",
    "import plotly.graph_objs as go\n",
    "\n",
    "import siggen\n",
    "import onestage\n",
    "from likelihood import *"
   ]
  },
  {
   "cell_type": "code",
   "execution_count": 2,
   "metadata": {
    "collapsed": true
   },
   "outputs": [],
   "source": [
    "#input parameters\n",
    "a = siggen.Antenna()\n",
    "a.load(\"/home/dima/.landing/AFS32.ini\")\n",
    "f0 = 120e6\n",
    "N = 2 ** 16\n",
    "fs = f0 * N / (N/2 -2);\n",
    "f_res = fs / N\n",
    "df = f_res\n",
    "target_pel = np.array([0,0])"
   ]
  },
  {
   "cell_type": "code",
   "execution_count": 3,
   "metadata": {
    "collapsed": false,
    "deletable": true,
    "editable": true
   },
   "outputs": [
    {
     "name": "stdout",
     "output_type": "stream",
     "text": [
      "[ 67.8  31.5]\n"
     ]
    }
   ],
   "source": [
    "#calculating antenna parameters\n",
    "beam_width = onestage.beam_width_est(antenna=a, f0=f0, df=df, fs=fs, f_res=f_res)\n",
    "print(np.rad2deg(beam_width))"
   ]
  },
  {
   "cell_type": "code",
   "execution_count": 4,
   "metadata": {
    "collapsed": false,
    "deletable": true,
    "editable": true
   },
   "outputs": [],
   "source": [
    "#Грубая оценка местоположения\n",
    "size = np.array([np.ceil(np.pi / beam_width[1]) * 3, np.ceil(2 * np.pi / beam_width[0]) * 3], np.int)\n",
    "R = 1000\n",
    "target = np.array([[R*np.cos(target_pel[1])*np.cos(target_pel[0])],\n",
    "                   [R*np.cos(target_pel[1])*np.sin(target_pel[0])],\n",
    "                   [R*np.sin(target_pel[1])]])\n",
    "lh = onestage.arp(a, f0, df, fs, f_res, size)\n",
    "N = int(fs/f_res)\n",
    "n_stop = int(np.ceil((f0 + df/2) / f_res))\n",
    "n_start = int(np.ceil((f0 - df/2) / f_res))\n",
    "s = siggen.wgn_baseband(a, target, N, fs)\n",
    "alpha_line = np.array([np.linspace(0, 2 * np.pi, size[1], endpoint=False)])\n",
    "alpha_mat = np.matmul(np.ones((1, size[0], 1)), alpha_line)\n",
    "\n",
    "betta_line = np.transpose(np.array([np.linspace(-np.pi / 2, np.pi / 2, size[0])]))\n",
    "betta_mat = np.matmul(betta_line, np.ones((1, 1, size[1])))\n",
    "\n",
    "peleng = np.concatenate((alpha_mat, betta_mat), axis=0)\n",
    "likelihood = np.zeros(size)\n",
    "\n",
    "lh = Pel_Lh(s[:, n_start:n_stop], a, f0)\n",
    "for i in range(size[0]):\n",
    "    for j in range(size[1]):\n",
    "        likelihood[i, j] = -lh.calc(peleng[:, i, j])"
   ]
  },
  {
   "cell_type": "code",
   "execution_count": 5,
   "metadata": {
    "collapsed": false,
    "deletable": true,
    "editable": true
   },
   "outputs": [
    {
     "data": {
      "text/html": [
       "<iframe id=\"igraph\" scrolling=\"no\" style=\"border:none;\" seamless=\"seamless\" src=\"https://plot.ly/~Gerx/302.embed\" height=\"525px\" width=\"100%\"></iframe>"
      ],
      "text/plain": [
       "<plotly.tools.PlotlyDisplay object>"
      ]
     },
     "execution_count": 5,
     "metadata": {},
     "output_type": "execute_result"
    }
   ],
   "source": [
    "alpha = np.linspace(0, 2 * np.pi, size[1])\n",
    "betta = np.linspace(-np.pi / 2 , np.pi / 2, size[0])\n",
    "alpha_grid, betta_grid = np.meshgrid(alpha, betta)\n",
    "\n",
    "trace = go.Surface(    x=np.rad2deg(alpha_grid),\n",
    "                       y=np.rad2deg(betta_grid),\n",
    "                       z=likelihood)\n",
    "data = [trace]\n",
    "ply.iplot(data, filename='Antenna radiaton pattern Cartesian')"
   ]
  },
  {
   "cell_type": "code",
   "execution_count": 13,
   "metadata": {
    "collapsed": false,
    "deletable": true,
    "editable": true
   },
   "outputs": [],
   "source": [
    "max_ind = np.argmax(likelihood)\n",
    "betta_max = max_ind % likelihood.shape[0]\n",
    "alpha_max = max_ind % likelihood.shape[1]\n",
    "pel_max = np.array([alpha_max, betta_max])\n",
    "\n",
    "pel_est = sp.optimize.minimize(lh.calc, pel_max, method = 'Nelder-Mead')"
   ]
  },
  {
   "cell_type": "code",
   "execution_count": 15,
   "metadata": {
    "collapsed": false
   },
   "outputs": [
    {
     "data": {
      "text/plain": [
       "array([ 0.00098379, -0.00737459])"
      ]
     },
     "execution_count": 15,
     "metadata": {},
     "output_type": "execute_result"
    }
   ],
   "source": [
    "pel_est.x"
   ]
  },
  {
   "cell_type": "code",
   "execution_count": null,
   "metadata": {
    "collapsed": true
   },
   "outputs": [],
   "source": []
  }
 ],
 "metadata": {
  "kernelspec": {
   "display_name": "Python 3",
   "language": "python",
   "name": "python3"
  },
  "language_info": {
   "codemirror_mode": {
    "name": "ipython",
    "version": 3
   },
   "file_extension": ".py",
   "mimetype": "text/x-python",
   "name": "python",
   "nbconvert_exporter": "python",
   "pygments_lexer": "ipython3",
   "version": "3.6.2"
  }
 },
 "nbformat": 4,
 "nbformat_minor": 2
}
