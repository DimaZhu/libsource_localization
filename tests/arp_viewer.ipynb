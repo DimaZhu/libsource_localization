{
 "cells": [
  {
   "cell_type": "code",
   "execution_count": 23,
   "metadata": {
    "collapsed": false,
    "deletable": true,
    "editable": true
   },
   "outputs": [
    {
     "ename": "ModuleNotFoundError",
     "evalue": "No module named 'estimator'",
     "output_type": "error",
     "traceback": [
      "\u001b[0;31m---------------------------------------------------------------------------\u001b[0m",
      "\u001b[0;31mModuleNotFoundError\u001b[0m                       Traceback (most recent call last)",
      "\u001b[0;32m<ipython-input-23-242fc97f3aec>\u001b[0m in \u001b[0;36m<module>\u001b[0;34m()\u001b[0m\n\u001b[1;32m      1\u001b[0m \u001b[0;32mimport\u001b[0m \u001b[0msiggen\u001b[0m\u001b[0;34m\u001b[0m\u001b[0m\n\u001b[0;32m----> 2\u001b[0;31m \u001b[0;32mimport\u001b[0m \u001b[0mestimator\u001b[0m\u001b[0;34m\u001b[0m\u001b[0m\n\u001b[0m",
      "\u001b[0;31mModuleNotFoundError\u001b[0m: No module named 'estimator'"
     ]
    }
   ],
   "source": [
    "import sys\n",
    "sys.path.append(\"/home/dima/Projects/source_localization/source_localization/\")\n",
    "import numpy as np\n",
    "\n",
    "import plotly.plotly as ply\n",
    "import plotly.graph_objs as go\n",
    "\n",
    "\n",
    "import siggen\n",
    "import estimator\n"
   ]
  },
  {
   "cell_type": "code",
   "execution_count": 20,
   "metadata": {
    "collapsed": false,
    "deletable": true,
    "editable": true
   },
   "outputs": [
    {
     "data": {
      "text/plain": [
       "32766.0"
      ]
     },
     "execution_count": 20,
     "metadata": {},
     "output_type": "execute_result"
    }
   ],
   "source": [
    "#input parameters\n",
    "a = siggen.Antenna()\n",
    "a.load(\"/home/dima/.landing/AFS32.ini\")\n",
    "f0 = 100e6\n",
    "N = 2 ** 16\n",
    "fs = f0 * N / (N/2 -2);\n",
    "f_res = fs / N\n",
    "df = f_res\n",
    "f0/f_res"
   ]
  },
  {
   "cell_type": "code",
   "execution_count": 3,
   "metadata": {
    "collapsed": true,
    "deletable": true,
    "editable": true
   },
   "outputs": [],
   "source": [
    "lh_size = (200, 600)\n",
    "alpha = np.linspace(0, 2 * np.pi, lh_size[1])\n",
    "betta = np.linspace(-np.pi / 2, np.pi / 2, lh_size[0])\n",
    "alpha_grid, betta_grid = np.meshgrid(alpha, betta)\n",
    "\n",
    "\n",
    "target_size = (1, 1)\n",
    "alpha_target = np.radians(180)\n",
    "betta_target = np.radians(0)\n",
    "pel = np.array([alpha_target, betta_target])\n",
    "\n",
    "lh = onestage.arp(a, f0, df, fs, f_res, lh_size, peleng=pel)"
   ]
  },
  {
   "cell_type": "code",
   "execution_count": 4,
   "metadata": {
    "collapsed": false,
    "deletable": true,
    "editable": true
   },
   "outputs": [
    {
     "name": "stdout",
     "output_type": "stream",
     "text": [
      "[ 82.2  38.7]\n"
     ]
    }
   ],
   "source": [
    "print(np.rad2deg(onestage.beam_width_est(lh=lh)))"
   ]
  },
  {
   "cell_type": "code",
   "execution_count": 5,
   "metadata": {
    "collapsed": false,
    "deletable": true,
    "editable": true
   },
   "outputs": [
    {
     "data": {
      "text/html": [
       "<iframe id=\"igraph\" scrolling=\"no\" style=\"border:none;\" seamless=\"seamless\" src=\"https://plot.ly/~Gerx/300.embed\" height=\"525px\" width=\"100%\"></iframe>"
      ],
      "text/plain": [
       "<plotly.tools.PlotlyDisplay object>"
      ]
     },
     "execution_count": 5,
     "metadata": {},
     "output_type": "execute_result"
    }
   ],
   "source": [
    "x = lh * np.cos(betta_grid) *np.cos(alpha_grid)\n",
    "y = lh * np.cos(betta_grid) * np.sin(alpha_grid)\n",
    "z = lh * np.sin(betta_grid)\n",
    "trace = go.Surface(    name = np.str(np.rad2deg(pel)),\n",
    "                       x=x,\n",
    "                       y=y,\n",
    "                       z=z)\n",
    "data = [trace]\n",
    "ply.iplot(data, filename='Antenna radiaton pattern Sphere')"
   ]
  },
  {
   "cell_type": "code",
   "execution_count": 18,
   "metadata": {
    "collapsed": false,
    "deletable": true,
    "editable": true,
    "scrolled": true
   },
   "outputs": [
    {
     "data": {
      "text/html": [
       "<iframe id=\"igraph\" scrolling=\"no\" style=\"border:none;\" seamless=\"seamless\" src=\"https://plot.ly/~Gerx/302.embed\" height=\"525px\" width=\"100%\"></iframe>"
      ],
      "text/plain": [
       "<plotly.tools.PlotlyDisplay object>"
      ]
     },
     "execution_count": 18,
     "metadata": {},
     "output_type": "execute_result"
    }
   ],
   "source": [
    "\n",
    "trace = go.Surface(    name = np.str(np.rad2deg(pel)),\n",
    "                       x=np.rad2deg(alpha_grid),\n",
    "                       y=np.rad2deg(betta_grid),\n",
    "                       z=lh)\n",
    "data = [trace]\n",
    "ply.iplot(data, filename='Antenna radiaton pattern Cartesian')"
   ]
  },
  {
   "cell_type": "code",
   "execution_count": 14,
   "metadata": {
    "collapsed": false,
    "deletable": true,
    "editable": true
   },
   "outputs": [
    {
     "data": {
      "text/html": [
       "<iframe id=\"igraph\" scrolling=\"no\" style=\"border:none;\" seamless=\"seamless\" src=\"https://plot.ly/~Gerx/278.embed\" height=\"525px\" width=\"100%\"></iframe>"
      ],
      "text/plain": [
       "<plotly.tools.PlotlyDisplay object>"
      ]
     },
     "execution_count": 14,
     "metadata": {},
     "output_type": "execute_result"
    }
   ],
   "source": [
    "lh_size = (100, 200)\n",
    "alpha = np.linspace(0, 2 * np.pi, lh_size[1], endpoint=False)\n",
    "betta = np.linspace(-np.pi, np.pi, lh_size[0])\n",
    "alpha_grid, betta_grid = np.meshgrid(alpha, betta)\n",
    "\n",
    "\n",
    "target_size = (1, 1)\n",
    "alpha_target = np.radians(5)\n",
    "betta_target = np.radians(45)\n",
    "pel = np.array([alpha_target, alpha_target])\n",
    "\n",
    "snr = 0 #[dB]\n",
    "\n",
    "lh = onestage.arp(a, f0, df, fs, f_res, lh_size, peleng=pel, snr=snr)\n",
    "x = lh * np.cos(betta_grid) *np.cos(alpha_grid)\n",
    "y = lh * np.cos(betta_grid) * np.sin(alpha_grid)\n",
    "z = lh * np.sin(betta_grid)\n",
    "trace = go.Surface(    name = np.str(np.rad2deg(pel)),\n",
    "                       x=x,\n",
    "                       y=y,\n",
    "                       z=z)\n",
    "data = [trace]\n",
    "ply.iplot(data, filename='Antenna radiaton pattern with noise')"
   ]
  }
 ],
 "metadata": {
  "kernelspec": {
   "display_name": "Python 3",
   "language": "python",
   "name": "python3"
  },
  "language_info": {
   "codemirror_mode": {
    "name": "ipython",
    "version": 3
   },
   "file_extension": ".py",
   "mimetype": "text/x-python",
   "name": "python",
   "nbconvert_exporter": "python",
   "pygments_lexer": "ipython3",
   "version": "3.6.2"
  },
  "varInspector": {
   "cols": {
    "lenName": 16,
    "lenType": 16,
    "lenVar": 40
   },
   "kernels_config": {
    "python": {
     "delete_cmd_postfix": "",
     "delete_cmd_prefix": "del ",
     "library": "var_list.py",
     "varRefreshCmd": "print(var_dic_list())"
    },
    "r": {
     "delete_cmd_postfix": ") ",
     "delete_cmd_prefix": "rm(",
     "library": "var_list.r",
     "varRefreshCmd": "cat(var_dic_list()) "
    }
   },
   "position": {
    "height": "368px",
    "left": "1540px",
    "right": "20px",
    "top": "116px",
    "width": "370px"
   },
   "types_to_exclude": [
    "module",
    "function",
    "builtin_function_or_method",
    "instance",
    "_Feature"
   ],
   "window_display": true
  }
 },
 "nbformat": 4,
 "nbformat_minor": 2
}
