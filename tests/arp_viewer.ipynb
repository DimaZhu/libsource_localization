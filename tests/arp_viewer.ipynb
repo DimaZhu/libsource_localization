{
 "cells": [
  {
   "cell_type": "code",
   "execution_count": 3,
   "metadata": {},
   "outputs": [],
   "source": [
    "import sys\n",
    "sys.path.append(\"/home/dima/Projects/source_localization/source_localization/\")\n",
    "import numpy as np\n",
    "\n",
    "import plotly.plotly as ply\n",
    "import plotly.graph_objs as go\n",
    "\n",
    "import dtypes\n",
    "import siggen\n",
    "import pelengator\n",
    "\n",
    "#input parameters\n",
    "a = dtypes.PyAntenna()\n",
    "a.load(\"/home/dima/.landing/AFS32.ini\")\n",
    "f0 = 100e6\n",
    "N = 2 ** 16\n",
    "fs = f0 * N / (N/2 -2);\n",
    "f_res = fs / N\n",
    "df = f_res\n"
   ]
  },
  {
   "cell_type": "code",
   "execution_count": 4,
   "metadata": {},
   "outputs": [
    {
     "name": "stdout",
     "output_type": "stream",
     "text": [
      "(32, 65536)\n"
     ]
    },
    {
     "ename": "AttributeError",
     "evalue": "'tuple' object has no attribute 'shape'",
     "output_type": "error",
     "traceback": [
      "\u001b[0;31m---------------------------------------------------------------------------\u001b[0m",
      "\u001b[0;31mAttributeError\u001b[0m                            Traceback (most recent call last)",
      "\u001b[0;32m<ipython-input-4-8ef9ec24dcb1>\u001b[0m in \u001b[0;36m<module>\u001b[0;34m()\u001b[0m\n\u001b[1;32m     10\u001b[0m \u001b[0mpel\u001b[0m \u001b[0;34m=\u001b[0m \u001b[0mnp\u001b[0m\u001b[0;34m.\u001b[0m\u001b[0marray\u001b[0m\u001b[0;34m(\u001b[0m\u001b[0;34m[\u001b[0m\u001b[0malpha_target\u001b[0m\u001b[0;34m,\u001b[0m \u001b[0mbetta_target\u001b[0m\u001b[0;34m]\u001b[0m\u001b[0;34m)\u001b[0m\u001b[0;34m\u001b[0m\u001b[0m\n\u001b[1;32m     11\u001b[0m \u001b[0;34m\u001b[0m\u001b[0m\n\u001b[0;32m---> 12\u001b[0;31m \u001b[0mlh\u001b[0m \u001b[0;34m=\u001b[0m \u001b[0mpelengator\u001b[0m\u001b[0;34m.\u001b[0m\u001b[0miarp\u001b[0m\u001b[0;34m(\u001b[0m\u001b[0ma\u001b[0m\u001b[0;34m,\u001b[0m \u001b[0mf0\u001b[0m\u001b[0;34m,\u001b[0m \u001b[0mdf\u001b[0m\u001b[0;34m,\u001b[0m \u001b[0mfs\u001b[0m\u001b[0;34m,\u001b[0m \u001b[0mf_res\u001b[0m\u001b[0;34m,\u001b[0m \u001b[0mlh_size\u001b[0m\u001b[0;34m,\u001b[0m \u001b[0mpeleng\u001b[0m\u001b[0;34m=\u001b[0m\u001b[0mpel\u001b[0m\u001b[0;34m)\u001b[0m\u001b[0;34m\u001b[0m\u001b[0m\n\u001b[0m",
      "\u001b[0;32m~/Projects/source_localization/source_localization/pelengator.py\u001b[0m in \u001b[0;36miarp\u001b[0;34m(antenna, f0, df, fs, f_res, shape, **keywords)\u001b[0m\n\u001b[1;32m     94\u001b[0m     \u001b[0;32melse\u001b[0m\u001b[0;34m:\u001b[0m\u001b[0;34m\u001b[0m\u001b[0m\n\u001b[1;32m     95\u001b[0m         \u001b[0ms\u001b[0m \u001b[0;34m=\u001b[0m \u001b[0msiggen\u001b[0m\u001b[0;34m.\u001b[0m\u001b[0mwgn_baseband\u001b[0m\u001b[0;34m(\u001b[0m\u001b[0mantenna\u001b[0m\u001b[0;34m,\u001b[0m \u001b[0mtarget\u001b[0m\u001b[0;34m,\u001b[0m \u001b[0mN\u001b[0m\u001b[0;34m,\u001b[0m \u001b[0mfs\u001b[0m\u001b[0;34m)\u001b[0m\u001b[0;34m\u001b[0m\u001b[0m\n\u001b[0;32m---> 96\u001b[0;31m         \u001b[0mprint\u001b[0m\u001b[0;34m(\u001b[0m\u001b[0ms\u001b[0m\u001b[0;34m.\u001b[0m\u001b[0mshape\u001b[0m\u001b[0;34m)\u001b[0m\u001b[0;34m\u001b[0m\u001b[0m\n\u001b[0m\u001b[1;32m     97\u001b[0m \u001b[0;34m\u001b[0m\u001b[0m\n\u001b[1;32m     98\u001b[0m     \u001b[0;32mif\u001b[0m \u001b[0mn_stop\u001b[0m \u001b[0;34m>\u001b[0m \u001b[0ms\u001b[0m\u001b[0;34m.\u001b[0m\u001b[0mshape\u001b[0m\u001b[0;34m[\u001b[0m\u001b[0;36m1\u001b[0m\u001b[0;34m]\u001b[0m \u001b[0;32mor\u001b[0m \u001b[0mn_stop\u001b[0m \u001b[0;34m>\u001b[0m \u001b[0ms\u001b[0m\u001b[0;34m.\u001b[0m\u001b[0mshape\u001b[0m\u001b[0;34m[\u001b[0m\u001b[0;36m1\u001b[0m\u001b[0;34m]\u001b[0m \u001b[0;34m/\u001b[0m \u001b[0;36m2\u001b[0m\u001b[0;34m:\u001b[0m\u001b[0;34m\u001b[0m\u001b[0m\n",
      "\u001b[0;31mAttributeError\u001b[0m: 'tuple' object has no attribute 'shape'"
     ]
    }
   ],
   "source": [
    "lh_size = (200, 600)\n",
    "alpha = np.linspace(0, 2 * np.pi, lh_size[1])\n",
    "betta = np.linspace(-np.pi / 2, np.pi / 2, lh_size[0])\n",
    "alpha_grid, betta_grid = np.meshgrid(alpha, betta)\n",
    "\n",
    "\n",
    "target_size = (1, 1)\n",
    "alpha_target = np.radians(180)\n",
    "betta_target = np.radians(0)\n",
    "pel = np.array([alpha_target, betta_target])\n",
    "\n",
    "lh = pelengator.iarp(a, f0, df, fs, f_res, lh_size, peleng=pel)"
   ]
  },
  {
   "cell_type": "code",
   "execution_count": 6,
   "metadata": {},
   "outputs": [
    {
     "ename": "NameError",
     "evalue": "name 'onestage' is not defined",
     "output_type": "error",
     "traceback": [
      "\u001b[0;31m---------------------------------------------------------------------------\u001b[0m",
      "\u001b[0;31mNameError\u001b[0m                                 Traceback (most recent call last)",
      "\u001b[0;32m<ipython-input-6-62251195ff56>\u001b[0m in \u001b[0;36m<module>\u001b[0;34m()\u001b[0m\n\u001b[0;32m----> 1\u001b[0;31m \u001b[0mprint\u001b[0m\u001b[0;34m(\u001b[0m\u001b[0mnp\u001b[0m\u001b[0;34m.\u001b[0m\u001b[0mrad2deg\u001b[0m\u001b[0;34m(\u001b[0m\u001b[0monestage\u001b[0m\u001b[0;34m.\u001b[0m\u001b[0mbeam_width_est\u001b[0m\u001b[0;34m(\u001b[0m\u001b[0mlh\u001b[0m\u001b[0;34m=\u001b[0m\u001b[0mlh\u001b[0m\u001b[0;34m)\u001b[0m\u001b[0;34m)\u001b[0m\u001b[0;34m)\u001b[0m\u001b[0;34m\u001b[0m\u001b[0m\n\u001b[0m",
      "\u001b[0;31mNameError\u001b[0m: name 'onestage' is not defined"
     ]
    }
   ],
   "source": [
    "print(np.rad2deg(onestage.beam_width_est(lh=lh)))"
   ]
  },
  {
   "cell_type": "code",
   "execution_count": 5,
   "metadata": {},
   "outputs": [
    {
     "data": {
      "text/html": [
       "<iframe id=\"igraph\" scrolling=\"no\" style=\"border:none;\" seamless=\"seamless\" src=\"https://plot.ly/~Gerx/300.embed\" height=\"525px\" width=\"100%\"></iframe>"
      ],
      "text/plain": [
       "<plotly.tools.PlotlyDisplay object>"
      ]
     },
     "execution_count": 5,
     "metadata": {},
     "output_type": "execute_result"
    }
   ],
   "source": [
    "x = lh * np.cos(betta_grid) *np.cos(alpha_grid)\n",
    "y = lh * np.cos(betta_grid) * np.sin(alpha_grid)\n",
    "z = lh * np.sin(betta_grid)\n",
    "trace = go.Surface(    name = np.str(np.rad2deg(pel)),\n",
    "                       x=x,\n",
    "                       y=y,\n",
    "                       z=z)\n",
    "data = [trace]\n",
    "ply.iplot(data, filename='Antenna radiaton pattern Sphere')"
   ]
  },
  {
   "cell_type": "code",
   "execution_count": 18,
   "metadata": {
    "scrolled": true
   },
   "outputs": [
    {
     "data": {
      "text/html": [
       "<iframe id=\"igraph\" scrolling=\"no\" style=\"border:none;\" seamless=\"seamless\" src=\"https://plot.ly/~Gerx/302.embed\" height=\"525px\" width=\"100%\"></iframe>"
      ],
      "text/plain": [
       "<plotly.tools.PlotlyDisplay object>"
      ]
     },
     "execution_count": 18,
     "metadata": {},
     "output_type": "execute_result"
    }
   ],
   "source": [
    "\n",
    "trace = go.Surface(    name = np.str(np.rad2deg(pel)),\n",
    "                       x=np.rad2deg(alpha_grid),\n",
    "                       y=np.rad2deg(betta_grid),\n",
    "                       z=lh)\n",
    "data = [trace]\n",
    "ply.iplot(data, filename='Antenna radiaton pattern Cartesian')"
   ]
  },
  {
   "cell_type": "code",
   "execution_count": 14,
   "metadata": {},
   "outputs": [
    {
     "data": {
      "text/html": [
       "<iframe id=\"igraph\" scrolling=\"no\" style=\"border:none;\" seamless=\"seamless\" src=\"https://plot.ly/~Gerx/278.embed\" height=\"525px\" width=\"100%\"></iframe>"
      ],
      "text/plain": [
       "<plotly.tools.PlotlyDisplay object>"
      ]
     },
     "execution_count": 14,
     "metadata": {},
     "output_type": "execute_result"
    }
   ],
   "source": [
    "lh_size = (100, 200)\n",
    "alpha = np.linspace(0, 2 * np.pi, lh_size[1], endpoint=False)\n",
    "betta = np.linspace(-np.pi, np.pi, lh_size[0])\n",
    "alpha_grid, betta_grid = np.meshgrid(alpha, betta)\n",
    "\n",
    "\n",
    "target_size = (1, 1)\n",
    "alpha_target = np.radians(5)\n",
    "betta_target = np.radians(45)\n",
    "pel = np.array([alpha_target, alpha_target])\n",
    "\n",
    "snr = 0 #[dB]\n",
    "\n",
    "lh = onestage.arp(a, f0, df, fs, f_res, lh_size, peleng=pel, snr=snr)\n",
    "x = lh * np.cos(betta_grid) *np.cos(alpha_grid)\n",
    "y = lh * np.cos(betta_grid) * np.sin(alpha_grid)\n",
    "z = lh * np.sin(betta_grid)\n",
    "trace = go.Surface(    name = np.str(np.rad2deg(pel)),\n",
    "                       x=x,\n",
    "                       y=y,\n",
    "                       z=z)\n",
    "data = [trace]\n",
    "ply.iplot(data, filename='Antenna radiaton pattern with noise')"
   ]
  }
 ],
 "metadata": {
  "kernelspec": {
   "display_name": "Python 3",
   "language": "python",
   "name": "python3"
  },
  "language_info": {
   "codemirror_mode": {
    "name": "ipython",
    "version": 3
   },
   "file_extension": ".py",
   "mimetype": "text/x-python",
   "name": "python",
   "nbconvert_exporter": "python",
   "pygments_lexer": "ipython3",
   "version": "3.5.3"
  },
  "varInspector": {
   "cols": {
    "lenName": 16,
    "lenType": 16,
    "lenVar": 40
   },
   "kernels_config": {
    "python": {
     "delete_cmd_postfix": "",
     "delete_cmd_prefix": "del ",
     "library": "var_list.py",
     "varRefreshCmd": "print(var_dic_list())"
    },
    "r": {
     "delete_cmd_postfix": ") ",
     "delete_cmd_prefix": "rm(",
     "library": "var_list.r",
     "varRefreshCmd": "cat(var_dic_list()) "
    }
   },
   "position": {
    "height": "368px",
    "left": "1540px",
    "right": "20px",
    "top": "116px",
    "width": "370px"
   },
   "types_to_exclude": [
    "module",
    "function",
    "builtin_function_or_method",
    "instance",
    "_Feature"
   ],
   "window_display": true
  }
 },
 "nbformat": 4,
 "nbformat_minor": 2
}
