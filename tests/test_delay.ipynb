{
 "cells": [
  {
   "cell_type": "code",
   "execution_count": 1,
   "metadata": {
    "collapsed": true
   },
   "outputs": [],
   "source": [
    "import numpy as np\n",
    "import plotly.plotly as pl\n",
    "import plotly.graph_objs as go\n",
    "import siggen"
   ]
  },
  {
   "cell_type": "code",
   "execution_count": 4,
   "metadata": {},
   "outputs": [
    {
     "name": "stdout",
     "output_type": "stream",
     "text": [
      "[[  3.33000000e-06]\n",
      " [  3.33333500e-06]\n",
      " [  3.33666667e-06]\n",
      " [  3.33333500e-06]]\n"
     ]
    },
    {
     "data": {
      "text/html": [
       "<iframe id=\"igraph\" scrolling=\"no\" style=\"border:none;\" seamless=\"seamless\" src=\"https://plot.ly/~Gerx/296.embed\" height=\"525px\" width=\"100%\"></iframe>"
      ],
      "text/plain": [
       "<plotly.tools.PlotlyDisplay object>"
      ]
     },
     "execution_count": 4,
     "metadata": {},
     "output_type": "execute_result"
    }
   ],
   "source": [
    "a = siggen.Antenna()\n",
    "a.load(\"/home/dima/.landing/AFS4.ini\")\n",
    "f0 = 0.03e6\n",
    "df = 1e3;\n",
    "fs = 0.07e6;\n",
    "f_res = 1e3\n",
    "N = int(fs/f_res)\n",
    "\n",
    "peleng = np.array([0, 0])\n",
    "R = 1000\n",
    "target = np.array([[R*np.cos(peleng[1])*np.cos(peleng[0])],\n",
    "                   [R*np.cos(peleng[1])*np.sin(peleng[0])],\n",
    "                   [R*np.sin(peleng[1])]])\n",
    "s = siggen.wgn_baseband(a, target, N, fs, print_delay=True)\n",
    "\n",
    "phi = np.unwrap(np.angle(s), axis=0)\n",
    "\n",
    "line1 = go.Scatter(y=phi[1, :] - phi[0, :],)\n",
    "line2 = go.Scatter(y=phi[2, :] - phi[0, :],)\n",
    "line3 = go.Scatter(y=phi[3,:] - phi[0, :])\n",
    "data = [line1, line2, line3]\n",
    "pl.iplot(data, filename = \"001\")"
   ]
  },
  {
   "cell_type": "code",
   "execution_count": 8,
   "metadata": {},
   "outputs": [
    {
     "data": {
      "text/plain": [
       "3.3349999995738276e-09"
      ]
     },
     "execution_count": 8,
     "metadata": {},
     "output_type": "execute_result"
    }
   ],
   "source": [
    "phi10 = phi[1, :] - phi[0, :] \n",
    "-(phi10[1] - phi10[0]) / ( 2 * np.pi * f_res)"
   ]
  },
  {
   "cell_type": "code",
   "execution_count": null,
   "metadata": {
    "collapsed": true
   },
   "outputs": [],
   "source": []
  }
 ],
 "metadata": {
  "kernelspec": {
   "display_name": "Python 3",
   "language": "python",
   "name": "python3"
  },
  "language_info": {
   "codemirror_mode": {
    "name": "ipython",
    "version": 3
   },
   "file_extension": ".py",
   "mimetype": "text/x-python",
   "name": "python",
   "nbconvert_exporter": "python",
   "pygments_lexer": "ipython3",
   "version": "3.5.4"
  }
 },
 "nbformat": 4,
 "nbformat_minor": 2
}
