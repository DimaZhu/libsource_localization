{
 "cells": [
  {
   "cell_type": "markdown",
   "metadata": {},
   "source": [
    "Проверка работы модуля задержки"
   ]
  },
  {
   "cell_type": "code",
   "execution_count": 2,
   "metadata": {
    "collapsed": false
   },
   "outputs": [],
   "source": [
    "import numpy as np\n",
    "import plotly.plotly as pl\n",
    "import plotly.graph_objs as go\n",
    "import siggen\n",
    "import dtypes\n",
    "\n",
    "#Инициализация\n",
    "a = dtypes.PyAntenna()\n",
    "a.load(\"/home/dima/.landing/AFS4.ini\")\n",
    "f0 = 0.03e6\n",
    "df = 1e3;\n",
    "fs = 0.07e6;\n",
    "f_res = 1e3\n",
    "N = int(fs/f_res)\n",
    "peleng = np.array([0, 0])"
   ]
  },
  {
   "cell_type": "markdown",
   "metadata": {},
   "source": [
    "Алгоритм задержки:"
   ]
  },
  {
   "cell_type": "code",
   "execution_count": 3,
   "metadata": {
    "collapsed": false
   },
   "outputs": [
    {
     "data": {
      "text/latex": [
       "\\begin{align}\n",
       "X(f) = FFT(x(t))\\\\\n",
       "Y(f) = X(f)  exp(- j 2 \\pi \\frac{f} f_{res} tau)\n",
       "\\end{align}\n"
      ],
      "text/plain": [
       "<IPython.core.display.Latex object>"
      ]
     },
     "metadata": {},
     "output_type": "display_data"
    }
   ],
   "source": [
    "%%latex\n",
    "\\begin{align}\n",
    "X(f) = FFT(x(t))\\\\\n",
    "Y(f) = X(f)  exp(- j 2 \\pi \\frac{f} f_{res} tau)\n",
    "\\end{align}\n",
    "\n"
   ]
  },
  {
   "cell_type": "code",
   "execution_count": 4,
   "metadata": {
    "collapsed": false
   },
   "outputs": [],
   "source": [
    "# Генерация сигнала\n",
    "R = 1000\n",
    "target = np.array([[R*np.cos(peleng[1])*np.cos(peleng[0])],\n",
    "                   [R*np.cos(peleng[1])*np.sin(peleng[0])],\n",
    "                   [R*np.sin(peleng[1])]])\n",
    "s, time_delay = siggen.wgn_baseband(a, target, N, fs)\n",
    "\n",
    "phase_response= np.unwrap(np.angle(s), axis=1)\n"
   ]
  },
  {
   "cell_type": "code",
   "execution_count": 5,
   "metadata": {
    "collapsed": false
   },
   "outputs": [
    {
     "data": {
      "text/html": [
       "<iframe id=\"igraph\" scrolling=\"no\" style=\"border:none;\" seamless=\"seamless\" src=\"https://plot.ly/~Gerx/296.embed\" height=\"525px\" width=\"100%\"></iframe>"
      ],
      "text/plain": [
       "<plotly.tools.PlotlyDisplay object>"
      ]
     },
     "execution_count": 5,
     "metadata": {},
     "output_type": "execute_result"
    }
   ],
   "source": [
    "#Отображение\n",
    "line1 = go.Scatter(y=phase_response[1, :] - phase_response[0, :],)\n",
    "line2 = go.Scatter(y=phase_response[2, :] - phase_response[0, :],)\n",
    "line3 = go.Scatter(y=phase_response[3,:] - phase_response[0, :])\n",
    "data = [line1, line2, line3]\n",
    "pl.iplot(data, filename = \"001\")"
   ]
  },
  {
   "cell_type": "code",
   "execution_count": 6,
   "metadata": {
    "collapsed": false
   },
   "outputs": [
    {
     "name": "stdout",
     "output_type": "stream",
     "text": [
      "Ошибка времени задерживания для пары каналов  ( 0 , 1 ) :  [ -3.44107135e-21]\n",
      "Ошибка времени задерживания для пары каналов  ( 0 , 2 ) :  [ -7.09390093e-21]\n",
      "Ошибка времени задерживания для пары каналов  ( 0 , 3 ) :  [ -2.11758237e-21]\n",
      "Ошибка времени задерживания для пары каналов  ( 1 , 2 ) :  [ -3.65282959e-21]\n",
      "Ошибка времени задерживания для пары каналов  ( 1 , 3 ) :  [  1.37642854e-21]\n",
      "Ошибка времени задерживания для пары каналов  ( 2 , 3 ) :  [  4.97631857e-21]\n"
     ]
    }
   ],
   "source": [
    "# Расчет ошибок временных задержек\n",
    "for i in range(a.get_channels_total() - 1):\n",
    "    for j in range (i+1, a.get_channels_total()):\n",
    "        phase_response_difference = phase_response[j, :] - phase_response[i, :]\n",
    "        time_delay_est =  -(phase_response_difference[1] - phase_response_difference[0]) / ( 2 * np.pi * f_res)\n",
    "        print(\"Ошибка времени задерживания для пары каналов  (\", i, \",\", j,  \")\", \": \", time_delay_est - (time_delay[j]- time_delay[i]))\n",
    "    \n"
   ]
  }
 ],
 "metadata": {
  "kernelspec": {
   "display_name": "Python 3",
   "language": "python",
   "name": "python3"
  },
  "language_info": {
   "codemirror_mode": {
    "name": "ipython",
    "version": 3
   },
   "file_extension": ".py",
   "mimetype": "text/x-python",
   "name": "python",
   "nbconvert_exporter": "python",
   "pygments_lexer": "ipython3",
   "version": "3.5.3"
  }
 },
 "nbformat": 4,
 "nbformat_minor": 2
}
